{
  "nbformat": 4,
  "nbformat_minor": 0,
  "metadata": {
    "colab": {
      "name": "ifcguid.ipynb",
      "provenance": [],
      "collapsed_sections": []
    },
    "kernelspec": {
      "name": "python3",
      "display_name": "Python 3"
    },
    "language_info": {
      "name": "python"
    }
  },
  "cells": [
    {
      "cell_type": "markdown",
      "source": [
        "To make guid for ifc element easier, refered to [IfcOpenShell/src/ifcopenshell-python/ifcopenshell/guid.py](https://github.com/IfcOpenShell/IfcOpenShell/blob/89023df4e588322d61e5f5f0bb08dcab782707f0/src/ifcopenshell-python/ifcopenshell/guid.py)"
      ],
      "metadata": {
        "id": "FtAGMgoajD6V"
      }
    },
    {
      "cell_type": "code",
      "execution_count": null,
      "metadata": {
        "id": "t0si7MKoDBpT"
      },
      "outputs": [],
      "source": [
        "import uuid\n",
        "import string"
      ]
    },
    {
      "cell_type": "code",
      "source": [
        "chars = string.digits + string.ascii_uppercase + string.ascii_lowercase + '_$'\n",
        "\n",
        "def compress(g):\n",
        "    bs = [int(g[i:i + 2], 16) for i in range(0, len(g), 2)]\n",
        "\n",
        "    def b64(v, l=4):\n",
        "        return ''.join([chars[(v // (64 ** i)) % 64] for i in range(l)][::-1])\n",
        "\n",
        "    return ''.join([b64(bs[0], 2)] + [b64((bs[i] << 16) + (bs[i + 1] << 8) + bs[i + 2]) for i in range(1, 16, 3)])"
      ],
      "metadata": {
        "id": "rA7xLc1WDSwe"
      },
      "execution_count": null,
      "outputs": []
    },
    {
      "cell_type": "code",
      "source": [
        "def new():\n",
        "    return compress(uuid.uuid4().hex)"
      ],
      "metadata": {
        "id": "Byy3jJA7DTsu"
      },
      "execution_count": null,
      "outputs": []
    },
    {
      "cell_type": "code",
      "source": [
        "new()"
      ],
      "metadata": {
        "id": "xrohqCuuDXxB"
      },
      "execution_count": null,
      "outputs": []
    }
  ]
}